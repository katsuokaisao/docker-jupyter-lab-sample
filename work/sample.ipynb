{
 "cells": [
  {
   "cell_type": "code",
   "execution_count": 10,
   "id": "4e0c33a4-5c0c-44d0-a30e-d604441e19d6",
   "metadata": {},
   "outputs": [],
   "source": [
    "import openpyxl\n",
    "import pandas as pd"
   ]
  },
  {
   "cell_type": "code",
   "execution_count": 11,
   "id": "ef96c102-3685-43f0-88d9-e20a1de3be3d",
   "metadata": {},
   "outputs": [],
   "source": [
    "header = ['商品名', '売上金額', '売上コスト']\n",
    "\n",
    "df = pd.DataFrame(data={\n",
    "    '商品名': ['人気商品A', '商品B', '人気商品C', '人気商品A', '商品B', '商品D'],\n",
    "    '売上金額': [1000, 2000, 3000, 4000, 5000, 6000],\n",
    "    '売上コスト': [800, 1500, 2400, 800, 1500, 2200] \n",
    "})"
   ]
  },
  {
   "cell_type": "code",
   "execution_count": 22,
   "id": "dbd62fb4-a0f6-45c4-a3a1-6a9c9b2d2c55",
   "metadata": {},
   "outputs": [
    {
     "name": "stdout",
     "output_type": "stream",
     "text": [
      "       売上金額  売上コスト        利益率\n",
      "商品名                          \n",
      "人気商品A  5000   1600  68.000000\n",
      "人気商品C  3000   2400  20.000000\n",
      "商品B    7000   3000  57.142857\n",
      "商品D    6000   2200  63.333333\n"
     ]
    }
   ],
   "source": [
    "grouped = df.groupby('商品名').agg({'売上金額': 'sum', '売上コスト': 'sum'})\n",
    "\n",
    "grouped['利益率'] = ((grouped['売上金額'] - grouped['売上コスト']) / grouped['売上金額']) * 100\n",
    "\n",
    "with pd.ExcelWriter(\"売上管理表.xlsx\") as writer:\n",
    "    grouped.to_excel(writer)"
   ]
  },
  {
   "cell_type": "code",
   "execution_count": null,
   "id": "43125dca-a772-4076-ab18-2e7009e19509",
   "metadata": {},
   "outputs": [],
   "source": []
  }
 ],
 "metadata": {
  "kernelspec": {
   "display_name": "Python 3 (ipykernel)",
   "language": "python",
   "name": "python3"
  },
  "language_info": {
   "codemirror_mode": {
    "name": "ipython",
    "version": 3
   },
   "file_extension": ".py",
   "mimetype": "text/x-python",
   "name": "python",
   "nbconvert_exporter": "python",
   "pygments_lexer": "ipython3",
   "version": "3.11.7"
  }
 },
 "nbformat": 4,
 "nbformat_minor": 5
}
